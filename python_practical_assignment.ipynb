{
  "nbformat": 4,
  "nbformat_minor": 0,
  "metadata": {
    "colab": {
      "provenance": []
    },
    "kernelspec": {
      "name": "python3",
      "display_name": "Python 3"
    },
    "language_info": {
      "name": "python"
    }
  },
  "cells": [
    {
      "cell_type": "code",
      "execution_count": null,
      "metadata": {
        "id": "9CMvhqf2BHBq"
      },
      "outputs": [],
      "source": []
    },
    {
      "cell_type": "markdown",
      "source": [
        "#python\n"
      ],
      "metadata": {
        "id": "wB74dvJeBJxo"
      }
    },
    {
      "cell_type": "code",
      "source": [
        "print(\"Hello, World\")\n",
        "\n"
      ],
      "metadata": {
        "colab": {
          "base_uri": "https://localhost:8080/"
        },
        "id": "wlBDjG82J5SI",
        "outputId": "e6d746f5-8524-4d70-e81d-2a4335f50451"
      },
      "execution_count": null,
      "outputs": [
        {
          "output_type": "stream",
          "name": "stdout",
          "text": [
            "Hello, World\n"
          ]
        }
      ]
    },
    {
      "cell_type": "markdown",
      "source": [],
      "metadata": {
        "id": "-ZGzj7YWJrPi"
      }
    },
    {
      "cell_type": "code",
      "source": [
        "# Define your name and age\n",
        "name = \"John Doe\"  # Replace with your actual name\n",
        "age = 25\n",
        "\n",
        "# Display the name and age\n",
        "print(\"Name:\", name)\n",
        "print(\"Age:\", age)\n"
      ],
      "metadata": {
        "colab": {
          "base_uri": "https://localhost:8080/"
        },
        "id": "qEFVkZ70KYcV",
        "outputId": "ed0da8b9-e67b-4514-a8f4-bc27adafbe63"
      },
      "execution_count": null,
      "outputs": [
        {
          "output_type": "stream",
          "name": "stdout",
          "text": [
            "Name: John Doe\n",
            "Age: 25\n"
          ]
        }
      ]
    },
    {
      "cell_type": "markdown",
      "source": [
        "# Write code to print all the pre-defined keywords in Python using the keyword librar\n"
      ],
      "metadata": {
        "id": "aHcouEcfM3xj"
      }
    },
    {
      "cell_type": "code",
      "source": [
        "import keyword\n",
        "\n",
        "# Get the list of all Python keywords\n",
        "keywords = keyword.kwlist\n",
        "\n",
        "# Print the keywords\n",
        "print(\"Python predefined keywords:\")\n",
        "for kw in keywords:\n",
        "    print(kw)\n"
      ],
      "metadata": {
        "colab": {
          "base_uri": "https://localhost:8080/"
        },
        "id": "8BLnRxsUM8ha",
        "outputId": "f9214335-4b96-4211-8e81-acbf7471da7b"
      },
      "execution_count": 1,
      "outputs": [
        {
          "output_type": "stream",
          "name": "stdout",
          "text": [
            "Python predefined keywords:\n",
            "False\n",
            "None\n",
            "True\n",
            "and\n",
            "as\n",
            "assert\n",
            "async\n",
            "await\n",
            "break\n",
            "class\n",
            "continue\n",
            "def\n",
            "del\n",
            "elif\n",
            "else\n",
            "except\n",
            "finally\n",
            "for\n",
            "from\n",
            "global\n",
            "if\n",
            "import\n",
            "in\n",
            "is\n",
            "lambda\n",
            "nonlocal\n",
            "not\n",
            "or\n",
            "pass\n",
            "raise\n",
            "return\n",
            "try\n",
            "while\n",
            "with\n",
            "yield\n"
          ]
        }
      ]
    },
    {
      "cell_type": "markdown",
      "source": [
        "# Write a program that checks if a given word is a Python keyword"
      ],
      "metadata": {
        "id": "p53dc2leN2Bg"
      }
    },
    {
      "cell_type": "markdown",
      "source": [],
      "metadata": {
        "id": "4d_uzsWOOdKz"
      }
    },
    {
      "cell_type": "code",
      "source": [
        "import keyword\n",
        "\n",
        "# Function to check if the word is a Python keyword\n",
        "def check_keyword(word):\n",
        "    if keyword.iskeyword(word):\n",
        "        print(f\"'{word}' is a Python keyword.\")\n",
        "    else:\n",
        "        print(f\"'{word}' is not a Python keyword.\")\n",
        "\n",
        "# Input from the user\n",
        "word = input(\"Enter a word to check if it is a Python keyword: \")\n",
        "\n",
        "# Check if the word is a Python keyword\n",
        "check_keyword(word)\n"
      ],
      "metadata": {
        "colab": {
          "base_uri": "https://localhost:8080/"
        },
        "id": "oEotG4EFN7zO",
        "outputId": "922e13e2-d6a7-4fc8-848d-7a536406b2a6"
      },
      "execution_count": 2,
      "outputs": [
        {
          "output_type": "stream",
          "name": "stdout",
          "text": [
            "Enter a word to check if it is a Python keyword: dumb\n",
            "'dumb' is not a Python keyword.\n"
          ]
        }
      ]
    },
    {
      "cell_type": "markdown",
      "source": [
        "# Create a list and tuple in Python, and demonstrate how attempting to change an element works differently for each.\n"
      ],
      "metadata": {
        "id": "dhFi9E4oOkMS"
      }
    },
    {
      "cell_type": "code",
      "source": [
        "# Create a list\n",
        "my_list = [1, 2, 3, 4]\n",
        "\n",
        "# Create a tuple\n",
        "my_tuple = (1, 2, 3, 4)\n",
        "\n",
        "# Attempt to change an element in the list\n",
        "print(\"Original list:\", my_list)\n",
        "my_list[1] = 10  # Changing element at index 1\n",
        "print(\"List after modification:\", my_list)\n",
        "\n",
        "# Attempt to change an element in the tuple\n",
        "print(\"\\nOriginal tuple:\", my_tuple)\n",
        "try:\n",
        "    my_tuple[1] = 10  # Trying to change element at index 1\n",
        "except TypeError as e:\n",
        "    print(\"Error while modifying tuple:\", e)\n"
      ],
      "metadata": {
        "colab": {
          "base_uri": "https://localhost:8080/"
        },
        "id": "GYq_5r3LPf9o",
        "outputId": "9fbc9a19-a202-49cf-ded9-3511bcd66ae4"
      },
      "execution_count": 5,
      "outputs": [
        {
          "output_type": "stream",
          "name": "stdout",
          "text": [
            "Original list: [1, 2, 3, 4]\n",
            "List after modification: [1, 10, 3, 4]\n",
            "\n",
            "Original tuple: (1, 2, 3, 4)\n",
            "Error while modifying tuple: 'tuple' object does not support item assignment\n"
          ]
        }
      ]
    },
    {
      "cell_type": "markdown",
      "source": [
        "# Write a function to demonstrate the behavior of mutable and immutable arguments\n"
      ],
      "metadata": {
        "id": "6NJu-oZ7P-LU"
      }
    },
    {
      "cell_type": "code",
      "source": [
        "# Function to demonstrate mutable and immutable arguments\n",
        "def modify_arguments(mutable_arg, immutable_arg):\n",
        "    print(\"Before modification:\")\n",
        "    print(\"Mutable argument:\", mutable_arg)\n",
        "    print(\"Immutable argument:\", immutable_arg)\n",
        "\n",
        "    # Modifying the mutable argument (list)\n",
        "    mutable_arg.append(10)  # Adding an element to the list\n",
        "\n",
        "    # Modifying the immutable argument (integer)\n",
        "    immutable_arg = 100  # Reassigning the value of the integer\n",
        "\n",
        "    print(\"\\nAfter modification:\")\n",
        "    print(\"Mutable argument:\", mutable_arg)  # List should be modified\n",
        "    print(\"Immutable argument:\", immutable_arg)  # Integer should not be modified\n",
        "\n",
        "\n",
        "# Example usage:\n",
        "\n",
        "# Mutable argument (list)\n",
        "mutable_list = [1, 2, 3]\n",
        "\n",
        "# Immutable argument (integer)\n",
        "immutable_int = 5\n",
        "\n",
        "# Call the function\n",
        "modify_arguments(mutable_list, immutable_int)\n",
        "\n",
        "# After function call, checking the values\n",
        "print(\"\\nOutside the function:\")\n",
        "print(\"Mutable list:\", mutable_list)  # List should reflect changes\n",
        "print(\"Immutable integer:\", immutable_int)  # Integer should remain the same\n"
      ],
      "metadata": {
        "colab": {
          "base_uri": "https://localhost:8080/"
        },
        "id": "8tx_KrokQML-",
        "outputId": "2612af2c-68fe-4120-9213-0661a87802bc"
      },
      "execution_count": 6,
      "outputs": [
        {
          "output_type": "stream",
          "name": "stdout",
          "text": [
            "Before modification:\n",
            "Mutable argument: [1, 2, 3]\n",
            "Immutable argument: 5\n",
            "\n",
            "After modification:\n",
            "Mutable argument: [1, 2, 3, 10]\n",
            "Immutable argument: 100\n",
            "\n",
            "Outside the function:\n",
            "Mutable list: [1, 2, 3, 10]\n",
            "Immutable integer: 5\n"
          ]
        }
      ]
    },
    {
      "cell_type": "markdown",
      "source": [
        "#  Write a program to demonstrate the use of logical operators"
      ],
      "metadata": {
        "id": "9gpEN5taQeLX"
      }
    },
    {
      "cell_type": "code",
      "source": [
        "# Program to demonstrate the use of logical operators\n",
        "\n",
        "# Define two variables for testing conditions\n",
        "a = 5\n",
        "b = 10\n",
        "\n",
        "# Using 'and' operator: True if both conditions are true\n",
        "if a > 0 and b > 0:\n",
        "    print(f\"Both a and b are positive numbers. (a = {a}, b = {b})\")\n",
        "\n",
        "# Using 'or' operator: True if at least one condition is true\n",
        "if a > 0 or b < 0:\n",
        "    print(f\"At least one of a or b is positive. (a = {a}, b = {b})\")\n",
        "\n",
        "# Using 'not' operator: Inverts the result of the condition\n",
        "if not (a < 0):\n",
        "    print(f\"a is not negative. (a = {a})\")\n",
        "\n",
        "# More examples\n",
        "if not (b == 5):\n",
        "    print(f\"b is not equal to 5. (b = {b})\")\n",
        "\n",
        "# Combining multiple logical operators\n",
        "if a > 0 and (b > 0 or b < 20):\n",
        "    print(f\"Combined condition: a is positive, and b is either positive or less than 20. (a = {a}, b = {b})\")\n"
      ],
      "metadata": {
        "colab": {
          "base_uri": "https://localhost:8080/"
        },
        "id": "MLjlo0j2Qng0",
        "outputId": "5bac7d3d-f26d-4aa5-be78-95a97e5fa112"
      },
      "execution_count": 7,
      "outputs": [
        {
          "output_type": "stream",
          "name": "stdout",
          "text": [
            "Both a and b are positive numbers. (a = 5, b = 10)\n",
            "At least one of a or b is positive. (a = 5, b = 10)\n",
            "a is not negative. (a = 5)\n",
            "b is not equal to 5. (b = 10)\n",
            "Combined condition: a is positive, and b is either positive or less than 20. (a = 5, b = 10)\n"
          ]
        }
      ]
    },
    {
      "cell_type": "markdown",
      "source": [
        "# Write a Python program to convert user input from string to integer, float, and boolean types"
      ],
      "metadata": {
        "id": "v-elm6zKQ59R"
      }
    },
    {
      "cell_type": "code",
      "source": [
        "# Get user input as a string\n",
        "user_input = input(\"Enter a value: \")\n",
        "\n",
        "# Convert to integer\n",
        "try:\n",
        "    int_value = int(user_input)\n",
        "    print(f\"Integer conversion: {int_value}\")\n",
        "except ValueError:\n",
        "    print(\"Invalid input for integer conversion.\")\n",
        "\n",
        "# Convert to float\n",
        "try:\n",
        "    float_value = float(user_input)\n",
        "    print(f\"Float conversion: {float_value}\")\n",
        "except ValueError:\n",
        "    print(\"Invalid input for float conversion.\")\n",
        "\n",
        "# Convert to boolean\n",
        "# In Python, an empty string is False, and any non-empty string is True\n",
        "if user_input.lower() == 'false' or user_input == '':\n",
        "    bool_value = False\n",
        "else:\n",
        "    bool_value = True\n",
        "\n",
        "print(f\"Boolean conversion: {bool_value}\")\n"
      ],
      "metadata": {
        "colab": {
          "base_uri": "https://localhost:8080/"
        },
        "id": "ZJWHTiCdRJco",
        "outputId": "662d01f2-e5a7-4d31-efd5-eec6ae8cddf3"
      },
      "execution_count": 8,
      "outputs": [
        {
          "output_type": "stream",
          "name": "stdout",
          "text": [
            "Enter a value: 52\n",
            "Integer conversion: 52\n",
            "Float conversion: 52.0\n",
            "Boolean conversion: True\n"
          ]
        }
      ]
    },
    {
      "cell_type": "markdown",
      "source": [],
      "metadata": {
        "id": "zzcRcV6AQ2md"
      }
    },
    {
      "cell_type": "markdown",
      "source": [
        "# Write code to demonstrate type casting with list elements"
      ],
      "metadata": {
        "id": "f4EWsq4nRbh2"
      }
    },
    {
      "cell_type": "code",
      "source": [
        "# Define a list of mixed data types\n",
        "mixed_list = [\"1\", \"2.5\", \"True\", \"45\", \"False\"]\n",
        "\n",
        "# Convert each element to integer, float, and boolean respectively\n",
        "int_list = [int(item) if item.isdigit() else 0 for item in mixed_list]\n",
        "float_list = [float(item) if item.replace('.', '', 1).isdigit() else 0.0 for item in mixed_list]\n",
        "bool_list = [item.lower() == 'true' if isinstance(item, str) else bool(item) for item in mixed_list]\n",
        "\n",
        "# Print the original list and the type-casted lists\n",
        "print(\"Original list:\", mixed_list)\n",
        "print(\"List after type casting to integers:\", int_list)\n",
        "print(\"List after type casting to floats:\", float_list)\n",
        "print(\"List after type casting to booleans:\", bool_list)\n"
      ],
      "metadata": {
        "colab": {
          "base_uri": "https://localhost:8080/"
        },
        "id": "imPfYgwdRi6H",
        "outputId": "f5226e8e-ef48-4d0b-84e8-39564eba2085"
      },
      "execution_count": 9,
      "outputs": [
        {
          "output_type": "stream",
          "name": "stdout",
          "text": [
            "Original list: ['1', '2.5', 'True', '45', 'False']\n",
            "List after type casting to integers: [1, 0, 0, 45, 0]\n",
            "List after type casting to floats: [1.0, 2.5, 0.0, 45.0, 0.0]\n",
            "List after type casting to booleans: [False, False, True, False, False]\n"
          ]
        }
      ]
    },
    {
      "cell_type": "markdown",
      "source": [
        "#  Write a program that checks if a number is positive, negative, or zero"
      ],
      "metadata": {
        "id": "EdZTI3DeRwYl"
      }
    },
    {
      "cell_type": "code",
      "source": [
        "# Function to check if a number is positive, negative, or zero\n",
        "def check_number(num):\n",
        "    if num > 0:\n",
        "        print(f\"{num} is a positive number.\")\n",
        "    elif num < 0:\n",
        "        print(f\"{num} is a negative number.\")\n",
        "    else:\n",
        "        print(f\"{num} is zero.\")\n",
        "\n",
        "# Get input from the user\n",
        "try:\n",
        "    user_input = float(input(\"Enter a number: \"))\n",
        "    check_number(user_input)\n",
        "except ValueError:\n",
        "    print(\"Invalid input! Please enter a valid number.\")\n"
      ],
      "metadata": {
        "colab": {
          "base_uri": "https://localhost:8080/"
        },
        "id": "x5sfnqA5R3Q9",
        "outputId": "fd9e1606-fed7-4cee-81bb-32b6eca5d10a"
      },
      "execution_count": 11,
      "outputs": [
        {
          "output_type": "stream",
          "name": "stdout",
          "text": [
            "Enter a number: 7685\n",
            "7685.0 is a positive number.\n"
          ]
        }
      ]
    },
    {
      "cell_type": "markdown",
      "source": [
        "#  Write a for loop to print numbers from 1 to 10"
      ],
      "metadata": {
        "id": "Brg2C6ZlSDhr"
      }
    },
    {
      "cell_type": "code",
      "source": [
        "# Using a for loop to print numbers from 1 to 10\n",
        "for num in range(1, 11):\n",
        "    print(num)\n"
      ],
      "metadata": {
        "colab": {
          "base_uri": "https://localhost:8080/"
        },
        "id": "T9mJRdgxSHXp",
        "outputId": "71ec5cbd-e32b-41db-a607-a3bdba28aa84"
      },
      "execution_count": 12,
      "outputs": [
        {
          "output_type": "stream",
          "name": "stdout",
          "text": [
            "1\n",
            "2\n",
            "3\n",
            "4\n",
            "5\n",
            "6\n",
            "7\n",
            "8\n",
            "9\n",
            "10\n"
          ]
        }
      ]
    },
    {
      "cell_type": "markdown",
      "source": [
        "# Write a Python program to find the sum of all even numbers between 1 and 50"
      ],
      "metadata": {
        "id": "JLBAYF4gSq50"
      }
    },
    {
      "cell_type": "code",
      "source": [
        "# Initialize sum to 0\n",
        "sum_of_evens = 0\n",
        "\n",
        "# Loop through numbers from 1 to 50\n",
        "for num in range(1, 51):\n",
        "    if num % 2 == 0:  # Check if the number is even\n",
        "        sum_of_evens += num  # Add the even number to the sum\n",
        "\n",
        "# Print the sum of even numbers\n",
        "print(\"Sum of all even numbers between 1 and 50:\", sum_of_evens)\n"
      ],
      "metadata": {
        "colab": {
          "base_uri": "https://localhost:8080/"
        },
        "id": "jGMN1R5OSxwo",
        "outputId": "8bd384a8-c286-4892-c307-c253f2d7a8c0"
      },
      "execution_count": 13,
      "outputs": [
        {
          "output_type": "stream",
          "name": "stdout",
          "text": [
            "Sum of all even numbers between 1 and 50: 650\n"
          ]
        }
      ]
    },
    {
      "cell_type": "markdown",
      "source": [],
      "metadata": {
        "id": "bSwHj62hSF8O"
      }
    },
    {
      "cell_type": "markdown",
      "source": [],
      "metadata": {
        "id": "yOee2j-STMK_"
      }
    },
    {
      "cell_type": "markdown",
      "source": [
        "#  Write a program to reverse a string using a while loop"
      ],
      "metadata": {
        "id": "x56PrYT6TPO8"
      }
    },
    {
      "cell_type": "code",
      "source": [
        "# Function to reverse a string using a while loop\n",
        "def reverse_string(input_string):\n",
        "    # Initialize an empty string to store the reversed string\n",
        "    reversed_string = \"\"\n",
        "\n",
        "    # Initialize a variable to track the index of the string\n",
        "    index = len(input_string) - 1\n",
        "\n",
        "    # Use a while loop to iterate through the string in reverse order\n",
        "    while index >= 0:\n",
        "        reversed_string += input_string[index]  # Append the character to reversed_string\n",
        "        index -= 1  # Move the index backwards\n",
        "\n",
        "    return reversed_string\n",
        "\n",
        "# Example usage\n",
        "input_string = input(\"Enter a string: \")\n",
        "result = reverse_string(input_string)\n",
        "print(\"Reversed string:\", result)\n"
      ],
      "metadata": {
        "colab": {
          "base_uri": "https://localhost:8080/"
        },
        "id": "pB17kUD-TajI",
        "outputId": "8bf705aa-4408-4cb1-d82a-37290e61e094"
      },
      "execution_count": 14,
      "outputs": [
        {
          "output_type": "stream",
          "name": "stdout",
          "text": [
            "Enter a string: 76b\n",
            "Reversed string: b67\n"
          ]
        }
      ]
    },
    {
      "cell_type": "markdown",
      "source": [
        "#  Write a Python program to calculate the factorial of a number provided by the user using a while loop."
      ],
      "metadata": {
        "id": "sOf1eDF-TlCh"
      }
    },
    {
      "cell_type": "markdown",
      "source": [
        "# Function to calculate factorial using a while loop\n"
      ],
      "metadata": {
        "id": "OZAtUusXTxzy"
      }
    },
    {
      "cell_type": "code",
      "source": [
        "# Function to calculate factorial using a while loop\n",
        "def factorial(n):\n",
        "    result = 1\n",
        "    # Check if the number is negative\n",
        "    if n < 0:\n",
        "        return \"Factorial does not exist for negative numbers\"\n",
        "\n",
        "    # Use while loop to calculate factorial\n",
        "    while n > 0:\n",
        "        result *= n  # Multiply result by the current number\n",
        "        n -= 1  # Decrement the number\n",
        "\n",
        "    return result\n",
        "\n",
        "# Get input from the user\n",
        "try:\n",
        "    num = int(input(\"Enter a number to calculate its factorial: \"))\n",
        "    print(f\"Factorial of {num} is {factorial(num)}\")\n",
        "except ValueError:\n",
        "    print(\"Invalid input! Please enter a valid number.\")\n"
      ],
      "metadata": {
        "colab": {
          "base_uri": "https://localhost:8080/"
        },
        "id": "Hfx8qefHUGGo",
        "outputId": "9f097189-caa6-4214-a07e-38212c51c838"
      },
      "execution_count": 15,
      "outputs": [
        {
          "output_type": "stream",
          "name": "stdout",
          "text": [
            "Enter a number to calculate its factorial: 768\n",
            "Factorial of 768 is 1824200416981257450057730991627029280593139823668905473621982296356361195421352130602098254466666105357757114842943336922741213795583024176568165444356371746595936125081594300436962208716515203097274013020310716007954975089755544393319941429500937881643623606724875914925642127668615329700214793418453588872883209258922633694578309873509006626582169926788917888373021731907796140748079160990714212976577879271040564718191564515564645885247242595792444603134796791779015314845357775565904564110133432293654841179551432995512653261045266408461997597322925334950971893314523226499763484137351681483997674300057626955796574228430328434873162184012954047591427619391489384924197729677721060351196140697879224604483762275053390400455806709953654877133820974717881650569370307997063288302334412925992550487647396757130758517330030769530361403979159132817200473844081658642726674348407018631448612144495535331513179987577187693335045701293225886502016198651988763274697298817446120600796772911680047377292087381631200688041112924525619266496944224328512273683610361709250620056403542672307738785777888509043611111545982150042119733217126468658897621113114236630412382471140509794361072240635683367832330470201201807849273189915605807321218449968904256316770299980459548707867513987970894119680935957249543406883210794763155377276832697924825139647064403905578835502432964707599666264432311038702123686743191053976257640768138722908060269138093041935253663646470043333025642526880531340475473898862548466294097053161816482289636272426509742684626991488742150032853303042496248157724716741764149248282974952583362883494237450859361940401757452832603221843454512197139521845250198672001823138729730443837440000000000000000000000000000000000000000000000000000000000000000000000000000000000000000000000000000000000000000000000000000000000000000000000000000000000000000000000000000000000000000000000\n"
          ]
        }
      ]
    }
  ]
}